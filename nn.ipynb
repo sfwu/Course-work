{
 "cells": [
  {
   "cell_type": "code",
   "execution_count": 33,
   "metadata": {},
   "outputs": [],
   "source": [
    "import pandas as pd \n",
    "import numpy as np\n",
    "import torch\n",
    "from torch import nn\n",
    "\n",
    "import torch.nn.functional as F\n",
    "from torchvision import datasets, transforms\n"
   ]
  },
  {
   "cell_type": "code",
   "execution_count": null,
   "metadata": {},
   "outputs": [],
   "source": [
    "my_data = pd.read_csv(\"train.csv\", index_col = 0)\n",
    "\n",
    "my_data = my_data.drop(columns = ['batch_size_test', 'batch_size_val', 'criterion', 'optimizer', 'batch_size_train'])\n",
    "y_train = my_data['train_error']\n",
    "y_val = my_data['val_error']\n",
    "my_data = my_data.drop(columns = 'train_error')\n",
    "my_data = my_data.drop(columns = 'val_error')\n",
    "\n",
    "x = my_data.drop(columns = ['train_loss','val_loss','arch_and_hp','init_params_mu', 'init_params_std', 'init_params_l2'])\n",
    "\n",
    "\n",
    "col_train = [col for col in x.filter(regex='^train',axis=1).columns]\n",
    "col_val = [col for col in x.filter(regex='^val',axis=1).columns]\n",
    "#print(col_train)\n",
    "#print(col_val)\n",
    "#print(x)\n",
    "\n",
    "torch_tensor_train = torch.tensor([x[title].values for title in col_train],dtype=torch.float)\n",
    "torch_tensor_val = torch.tensor([x[title].values for title in col_val],dtype=torch.float)\n",
    "\n",
    "\n",
    "torch_tensor_train = torch.t(torch_tensor_train)\n",
    "torch_tensor_val = torch.t(torch_tensor_val)\n",
    "\n",
    "\n",
    "\n",
    "# ------------- test part -----------------------\n",
    "\n",
    "test_data = pd.read_csv(\"test.csv\", index_col = 0)\n",
    "test_data = test_data.drop(columns = ['batch_size_test', 'batch_size_val', 'criterion', 'optimizer', 'batch_size_train'])\n",
    "test_data = test_data.drop(columns = ['arch_and_hp','init_params_mu', 'init_params_std', 'init_params_l2'])\n",
    "test_train = test_data[col_train]\n",
    "test_val = test_data[col_val]\n",
    "\n",
    "torch_tensor_test_train = torch.tensor([test_train[title].values for title in col_train],dtype=torch.float)\n",
    "torch_tensor_test_val = torch.tensor([test_val[title].values for title in col_val],dtype=torch.float)\n",
    "\n",
    "\n",
    "\n",
    "#print(test_train)\n",
    "#print(torch_tensor_test_train)"
   ]
  },
  {
   "cell_type": "code",
   "execution_count": 79,
   "metadata": {},
   "outputs": [],
   "source": [
    "#we first select a naive model after sorting based on the lowest val_error\n",
    "\n",
    "#model = torch.nn.Sequential(nn.BatchNorm2d(3, eps=1e-05, momentum=0.1, affine=True, track_running_stats=True), nn.Conv2d(3, 32, kernel_size=(1, 1), stride=(1, 1)) , nn.Tanh() , nn.Dropout2d(p=0.4569261378573387, inplace=False) , nn.Conv2d(32, 27, kernel_size=(3, 3), stride=(1, 1)) , nn.ReLU() , nn.Dropout2d(p=0.022897457910152297, inplace=False) , nn.Conv2d(27, 28, kernel_size=(5, 5), stride=(1, 1)) , nn.LeakyReLU(negative_slope=0.5719652455913541) , nn.MaxPool2d(kernel_size=5, stride=5, padding=0, dilation=1, ceil_mode=False) , nn.Flatten() , nn.Linear(in_features=700, out_features=28, bias=True) , nn.LeakyReLU(negative_slope=0.48187737007312437) , nn.Dropout(p=0.3735548245474202, inplace=False) , nn.Linear(in_features=28, out_features=10, bias=True) , nn.BatchNorm1d(10, eps=1e-05, momentum=0.1, affine=True, track_running_stats=True) )\n",
    "\n",
    "\n",
    "\n",
    "\n",
    "\n",
    "\n",
    "\n",
    "input_size = 1000\n",
    "hidden_sizes = [500, 300]\n",
    "output_size = \n",
    "\n",
    "class Flatten(nn.Module):\n",
    "    def forward(self, x):\n",
    "        return x.view(x.size()[0], -1)\n",
    "\n",
    "\n",
    "model = nn.Sequential(\n",
    "                      nn.Linear(input_size, hidden_sizes[0]),\n",
    "                      nn.ReLU(),\n",
    "                      nn.Linear(hidden_sizes[0], hidden_sizes[1]),\n",
    "                      nn.ReLU(),\n",
    "                      nn.Linear(hidden_sizes[1], output_size),\n",
    "                      nn.Softmax(dim=1))\n",
    "\n",
    "# Define the loss\n",
    "criterion = nn.NLLLoss()\n",
    "# Optimizers require the parameters to optimize and a learning rate\n",
    "optimizer = optim.SGD(model.parameters(), lr=0.003)\n",
    "epochs = 5\n",
    "for e in range(epochs):\n",
    "    running_loss = 0\n",
    "    for images, labels in trainloader:\n",
    "        # Flatten MNIST images into a 784 long vector\n",
    "        images = images.view(images.shape[0], -1)\n",
    "    \n",
    "        # Training pass\n",
    "        optimizer.zero_grad()\n",
    "        \n",
    "        output = model(images)\n",
    "        loss = criterion(output, labels)\n",
    "        loss.backward()\n",
    "        optimizer.step()\n",
    "        \n",
    "        running_loss += loss.item()\n",
    "    else:\n",
    "        print(f\"Training loss: {running_loss/len(trainloader)}\")\n",
    "\n"
   ]
  },
  {
   "cell_type": "code",
   "execution_count": 84,
   "metadata": {},
   "outputs": [
    {
     "name": "stdout",
     "output_type": "stream",
     "text": [
      "tensor([[0.2887, 0.1016, 0.1139,  ..., 2.2729, 2.2733, 2.2732],\n",
      "        [0.2852, 0.2119, 0.2439,  ..., 1.9171, 1.9080, 1.9134],\n",
      "        [0.2828, 0.3212, 0.4224,  ..., 0.9039, 0.8911, 0.8834],\n",
      "        ...,\n",
      "        [0.2859, 0.2474, 0.3211,  ..., 1.4120, 1.4068, 1.4033],\n",
      "        [0.2969, 0.2540, 0.3042,  ..., 1.2344, 1.2275, 1.2210],\n",
      "        [0.2805, 0.1418, 0.1555,  ..., 2.1134, 2.1179, 2.1202]])\n",
      "tensor([[0.2922, 0.3480, 0.3762,  ..., 1.8060, 1.8070, 1.8077],\n",
      "        [0.2719, 0.5297, 0.5539,  ..., 1.2389, 1.2440, 1.2360],\n",
      "        [0.2824, 0.5344, 0.5543,  ..., 1.2594, 1.2777, 1.2688],\n",
      "        ...,\n",
      "        [0.2836, 0.4520, 0.4828,  ..., 1.1846, 1.1741, 1.1554],\n",
      "        [0.3105, 0.3867, 0.4352,  ..., 1.3494, 1.3871, 1.3924],\n",
      "        [0.2848, 0.3426, 0.3535,  ..., 1.5992, 1.5879, 1.5732]])\n",
      "torch.Size([1878, 100])\n",
      "Sequential(\n",
      "  (0): Flatten()\n",
      "  (1): Linear(in_features=100, out_features=50, bias=True)\n",
      "  (2): ReLU()\n",
      "  (3): Linear(in_features=50, out_features=25, bias=True)\n",
      "  (4): ReLU()\n",
      "  (5): Linear(in_features=25, out_features=1, bias=True)\n",
      "  (6): Softmax(dim=1)\n",
      ")\n"
     ]
    }
   ],
   "source": [
    "\n",
    "\n",
    "output = model.train(torch_tensor_train[0])\n",
    "\n"
   ]
  },
  {
   "cell_type": "code",
   "execution_count": 54,
   "metadata": {},
   "outputs": [],
   "source": [
    "\n",
    "xPredicted = torch.tensor(  ([4, 8])  , dtype=torch.float)"
   ]
  },
  {
   "cell_type": "code",
   "execution_count": null,
   "metadata": {},
   "outputs": [],
   "source": []
  },
  {
   "cell_type": "code",
   "execution_count": null,
   "metadata": {},
   "outputs": [],
   "source": []
  }
 ],
 "metadata": {
  "kernelspec": {
   "display_name": "Python 3",
   "language": "python",
   "name": "python3"
  },
  "language_info": {
   "codemirror_mode": {
    "name": "ipython",
    "version": 3
   },
   "file_extension": ".py",
   "mimetype": "text/x-python",
   "name": "python",
   "nbconvert_exporter": "python",
   "pygments_lexer": "ipython3",
   "version": "3.7.1"
  }
 },
 "nbformat": 4,
 "nbformat_minor": 2
}
