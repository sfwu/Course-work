{
 "cells": [
  {
   "cell_type": "code",
   "execution_count": 6,
   "metadata": {},
   "outputs": [],
   "source": [
    "import pandas as pd \n",
    "import numpy as np\n",
    "import torch\n",
    "from torch import nn\n",
    "\n"
   ]
  },
  {
   "cell_type": "code",
   "execution_count": 7,
   "metadata": {},
   "outputs": [
    {
     "name": "stdout",
     "output_type": "stream",
     "text": [
      "I am here!\n"
     ]
    }
   ],
   "source": [
    "print(\"I am here!\")\n",
    "\n",
    "my_data = pd.read_csv(\"train.csv\", index_col = 0)\n",
    "\n",
    "my_data = my_data.drop(columns = ['batch_size_test', 'batch_size_val', 'criterion', 'optimizer', 'batch_size_train'])\n",
    "y_train = my_data['train_error']\n",
    "y_val = my_data['val_error']\n",
    "my_data = my_data.drop(columns = 'train_error')\n",
    "my_data = my_data.drop(columns = 'val_error')\n",
    "\n",
    "x = my_data.drop(columns = ['train_loss','val_loss','arch_and_hp','init_params_mu', 'init_params_std', 'init_params_l2'])\n",
    "\n",
    "col_train = [col for col in x.filter(regex='^train',axis=1).columns]\n",
    "col_val = [col for col in x.filter(regex='^val',axis=1).columns]\n",
    "#print(col_train)\n",
    "#print(col_val)\n",
    "#print(x)\n",
    "\n",
    "# ----------------- this part we split the train set to improve the performence of the model ------------\n",
    "\n",
    "#1. try on training dataset\n",
    "A = x.drop(['id'],axis=1)\n",
    "train = A[col_train]\n",
    "#val = x[col_val]\n",
    "val = A[col_val]\n",
    "\n",
    "#2. split 70%/30%\n",
    "\n",
    "# ==== 70% as the train data ==== y means target ====\n",
    "\n",
    "split_train_train = train[:int(len(train)*0.7)] #/\n",
    "split_train_val = val[:int(len(train)*0.7)]\n",
    "\n",
    "split_y_train_train = y_train[:int(len(train)*0.7)] #/\n",
    "split_y_train_val = y_val[:int(len(train)*0.7)]\n",
    "\n",
    "\n",
    "# ==== 30% as the train data ==== y means target ====\n",
    "\n",
    "\n",
    "split_test_train = train[int(len(train)*0.7):] #/\n",
    "split_test_val = val[int(len(train)*0.7):]\n",
    "\n",
    "split_y_test_train = y_train[int(len(train)*0.7):]\n",
    "split_y_test_val = y_val[int(len(train)*0.7):]\n",
    "\n",
    "#print(split_train_train)\n",
    "\n",
    "# === train part (70%) ===\n",
    "\n",
    "torch_tensor_train = torch.tensor([split_train_train[title].values for title in col_train],dtype=torch.float)\n",
    "torch_tensor_val = torch.tensor([split_train_val[title].values for title in col_val],dtype=torch.float)\n",
    "\n",
    "torch_tensor_train = torch.t(torch_tensor_train)\n",
    "torch_tensor_val = torch.t(torch_tensor_val)\n",
    "\n",
    "# === test part (30%) ===\n",
    "\n",
    "torch_tensor_test_train = torch.tensor([split_test_train[title].values for title in col_train],dtype=torch.float)\n",
    "torch_tensor_test_val = torch.tensor([split_test_val[title].values for title in col_val],dtype=torch.float)\n",
    "\n",
    "torch_tensor_test_train = torch.t(torch_tensor_test_train)\n",
    "torch_tensor_test_val = torch.t(torch_tensor_test_val)\n",
    "\n",
    "\n",
    "# -------------- the following represents the whole test data set ------------------------\n",
    "\n",
    "\n"
   ]
  },
  {
   "cell_type": "code",
   "execution_count": null,
   "metadata": {},
   "outputs": [],
   "source": [
    "'''\n",
    "torch_tensor_train = torch.tensor([x[title].values for title in col_train],dtype=torch.float)\n",
    "torch_tensor_val = torch.tensor([x[title].values for title in col_val],dtype=torch.float)\n",
    "\n",
    "\n",
    "torch_tensor_train = torch.t(torch_tensor_train)\n",
    "torch_tensor_val = torch.t(torch_tensor_val)\n",
    "\n",
    "\n",
    "print(len(col_train))\n",
    "print(torch_tensor_train.size())\n",
    "\n",
    "\n",
    "# ------------- test part -----------------------\n",
    "\n",
    "test_data = pd.read_csv(\"test.csv\", index_col = 0)\n",
    "test_data = test_data.drop(columns = ['batch_size_test', 'batch_size_val', 'criterion', 'optimizer', 'batch_size_train'])\n",
    "test_data = test_data.drop(columns = ['arch_and_hp','init_params_mu', 'init_params_std', 'init_params_l2'])\n",
    "test_train = test_data[col_train]\n",
    "test_val = test_data[col_val]\n",
    "\n",
    "torch_tensor_test_train = torch.tensor([test_train[title].values for title in col_train],dtype=torch.float)\n",
    "torch_tensor_test_val = torch.tensor([test_val[title].values for title in col_val],dtype=torch.float)\n",
    "\n",
    "torch_tensor_test_train = torch.t(torch_tensor_test_train)\n",
    "torch_tensor_test_val = torch.t(torch_tensor_test_val)\n",
    "\n",
    "#print(test_train)\n",
    "print(torch_tensor_test_train.size())\n",
    "\n",
    "\n",
    "\n",
    "'''"
   ]
  },
  {
   "cell_type": "code",
   "execution_count": 17,
   "metadata": {},
   "outputs": [
    {
     "name": "stderr",
     "output_type": "stream",
     "text": [
      "/Users/Wusongfeng/anaconda3/lib/python3.7/site-packages/torch/nn/modules/loss.py:431: UserWarning: Using a target size (torch.Size([])) that is different to the input size (torch.Size([1])). This will likely lead to incorrect results due to broadcasting. Please ensure they have the same size.\n",
      "  return F.mse_loss(input, target, reduction=self.reduction)\n"
     ]
    },
    {
     "name": "stdout",
     "output_type": "stream",
     "text": [
      "finished\n"
     ]
    }
   ],
   "source": [
    "#we first select a naive model after sorting based on the lowest val_error\n",
    "\n",
    "#model = torch.nn.Sequential(nn.BatchNorm2d(3, eps=1e-05, momentum=0.1, affine=True, track_running_stats=True), nn.Conv2d(3, 32, kernel_size=(1, 1), stride=(1, 1)) , nn.Tanh() , nn.Dropout2d(p=0.4569261378573387, inplace=False) , nn.Conv2d(32, 27, kernel_size=(3, 3), stride=(1, 1)) , nn.ReLU() , nn.Dropout2d(p=0.022897457910152297, inplace=False) , nn.Conv2d(27, 28, kernel_size=(5, 5), stride=(1, 1)) , nn.LeakyReLU(negative_slope=0.5719652455913541) , nn.MaxPool2d(kernel_size=5, stride=5, padding=0, dilation=1, ceil_mode=False) , nn.Flatten() , nn.Linear(in_features=700, out_features=28, bias=True) , nn.LeakyReLU(negative_slope=0.48187737007312437) , nn.Dropout(p=0.3735548245474202, inplace=False) , nn.Linear(in_features=28, out_features=10, bias=True) , nn.BatchNorm1d(10, eps=1e-05, momentum=0.1, affine=True, track_running_stats=True) )\n",
    "\n",
    "\n",
    "input_size = 100\n",
    "hidden_sizes = [60, 30]\n",
    "output_size = 1\n",
    "\n",
    "'''\n",
    "\n",
    "model_train = nn.Sequential(\n",
    "                      nn.Linear(input_size, hidden_sizes[0]),\n",
    "                      nn.ReLU(),\n",
    "                      nn.Linear(hidden_sizes[0], hidden_sizes[1]),\n",
    "                      nn.ReLU(),\n",
    "                      nn.Linear(hidden_sizes[1], output_size),\n",
    "                      )\n",
    "#nn.Softmax(dim=0)\n",
    "# Define the loss\n",
    "criterion = nn.MSELoss()\n",
    "# Optimizers require the parameters to optimize and a learning rate\n",
    "optimizer = torch.optim.SGD(model_train.parameters(), lr=0.003)\n",
    "epochs = 100\n",
    "for e in range(epochs):\n",
    "    running_loss = 0\n",
    "    for i in range(torch_tensor_train.size()[0]):\n",
    "        # Training pass\n",
    "        optimizer.zero_grad()\n",
    "        \n",
    "        output = model_train(torch_tensor_train[i])\n",
    "        #print(output)\n",
    "        #torch.tensor(y_train[i])\n",
    "        loss = criterion(output, torch.tensor(y_train[i]))\n",
    "        loss.backward()\n",
    "        optimizer.step()\n",
    "        \n",
    "        running_loss += loss.item()\n",
    "\n",
    "'''\n",
    "        \n",
    "model_val = nn.Sequential(\n",
    "                      nn.Linear(input_size, hidden_sizes[0]),\n",
    "                      nn.ReLU(),\n",
    "                      nn.Linear(hidden_sizes[0], hidden_sizes[1]),\n",
    "                      nn.ReLU(),\n",
    "                      nn.Linear(hidden_sizes[1], output_size),\n",
    "                      )\n",
    "\n",
    "# Optimizers require the parameters to optimize and a learning rate\n",
    "optimizer = torch.optim.SGD(model_val.parameters(), lr=0.0035)\n",
    "epochs = 100\n",
    "for e in range(epochs):\n",
    "    running_loss = 0\n",
    "    for i in range(torch_tensor_train.size()[0]):\n",
    "        # Training pass\n",
    "        optimizer.zero_grad()\n",
    "        \n",
    "        output = model_val(torch_tensor_val[i])\n",
    "        #print(output)\n",
    "        loss = criterion(output, torch.tensor(y_val[i]))\n",
    "        loss.backward()\n",
    "        optimizer.step()\n",
    "        \n",
    "        running_loss += loss.item()\n",
    "\n",
    "print(\"finished\")\n",
    "\n"
   ]
  },
  {
   "cell_type": "code",
   "execution_count": 18,
   "metadata": {},
   "outputs": [
    {
     "name": "stdout",
     "output_type": "stream",
     "text": [
      "I am here!\n"
     ]
    }
   ],
   "source": [
    "\n",
    "#now we do the prediction\n",
    "\n",
    "print(\"I am here!\")\n",
    "res_train,res_val = [],[]\n",
    "\n",
    "'''\n",
    "for row in torch_tensor_test_train:\n",
    "    res_train.append(model_train(row).item())\n",
    "''' \n",
    "for row in torch_tensor_test_val:\n",
    "    res_val.append(model_val(row).item())\n",
    "\n",
    "#print(len(res_val))\n",
    "#print(res_train)"
   ]
  },
  {
   "cell_type": "code",
   "execution_count": 19,
   "metadata": {},
   "outputs": [
    {
     "name": "stdout",
     "output_type": "stream",
     "text": [
      "0.9568610098349787\n",
      "0.7984869683761888\n"
     ]
    }
   ],
   "source": [
    "\n",
    "preds_train = np.array(res_train)\n",
    "preds_val = np.array(res_val)\n",
    "\n",
    "'''\n",
    "R_square = 1 - (sum((preds_train - split_y_test_train)**2)/sum((preds_train - preds_train.mean())**2))\n",
    "print(R_square)\n",
    "'''\n",
    "R_square = 1 - (sum((preds_val - split_y_test_val)**2)/sum((preds_val - preds_val.mean())**2))\n",
    "print(R_square)\n",
    "\n"
   ]
  },
  {
   "cell_type": "code",
   "execution_count": null,
   "metadata": {},
   "outputs": [],
   "source": [
    "'''\n",
    "submit = pd.read_csv(\"sample_submission.csv\", index_col = 0)\n",
    "res_array = np.zeros(len(res_train)*2)\n",
    "\n",
    "\n",
    "i = 0\n",
    "j = 0\n",
    "while True:\n",
    "    \n",
    "    if i == len(res_train):\n",
    "        break\n",
    "    \n",
    "    res_array[j] = res_val[i]\n",
    "    j += 1\n",
    "    res_array[j] = res_train[i]\n",
    "    j += 1\n",
    "    \n",
    "    i += 1 \n",
    "\n",
    "print(res_array)\n",
    "\n",
    "\n",
    "\n",
    "submit.Predicted = res_array\n",
    "submit.to_csv(\"submission.csv\")\n",
    "'''"
   ]
  },
  {
   "cell_type": "code",
   "execution_count": null,
   "metadata": {},
   "outputs": [],
   "source": []
  },
  {
   "cell_type": "code",
   "execution_count": null,
   "metadata": {},
   "outputs": [],
   "source": []
  }
 ],
 "metadata": {
  "kernelspec": {
   "display_name": "Python 3",
   "language": "python",
   "name": "python3"
  },
  "language_info": {
   "codemirror_mode": {
    "name": "ipython",
    "version": 3
   },
   "file_extension": ".py",
   "mimetype": "text/x-python",
   "name": "python",
   "nbconvert_exporter": "python",
   "pygments_lexer": "ipython3",
   "version": "3.7.1"
  }
 },
 "nbformat": 4,
 "nbformat_minor": 2
}
