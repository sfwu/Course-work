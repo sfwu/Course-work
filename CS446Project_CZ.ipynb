{
 "cells": [
  {
   "cell_type": "code",
   "execution_count": 379,
   "metadata": {},
   "outputs": [],
   "source": [
    "import pandas as pd\n",
    "import numpy as np"
   ]
  },
  {
   "cell_type": "code",
   "execution_count": 380,
   "metadata": {},
   "outputs": [],
   "source": [
    "my_data = pd.read_csv(\"train.csv\", index_col = 0)\n",
    "#print(my_data.head())\n",
    "#print(my_data.tail())\n",
    "#print(my_data['arch_and_hp'].head())"
   ]
  },
  {
   "cell_type": "code",
   "execution_count": 381,
   "metadata": {},
   "outputs": [],
   "source": [
    "my_data = my_data.drop(columns = ['batch_size_test', 'batch_size_val', 'criterion', 'optimizer', 'batch_size_train'])\n",
    "y_train = my_data['train_error']\n",
    "y_val = my_data['val_error']\n",
    "my_data = my_data.drop(columns = 'train_error')\n",
    "my_data = my_data.drop(columns = 'val_error')\n",
    "#my_data = my_data.to_numpy()\n",
    "\n",
    "#print(my_data.head())\n",
    "x = my_data.drop(columns = ['train_loss','val_loss','arch_and_hp','init_params_mu', 'init_params_std', 'init_params_l2'])\n",
    "#print(x.head())\n",
    "col_train = [col for col in x.filter(regex='^train',axis=1).columns]\n",
    "col_val = [col for col in x.filter(regex='^val',axis=1).columns]"
   ]
  },
  {
   "cell_type": "code",
   "execution_count": 382,
   "metadata": {},
   "outputs": [],
   "source": [
    "import xgboost as xgb"
   ]
  },
  {
   "cell_type": "code",
   "execution_count": 351,
   "metadata": {},
   "outputs": [],
   "source": [
    "#1. try on training dataset\n",
    "x = x.drop(['id'],axis=1)\n",
    "train = x[col_train]\n",
    "#val = x[col_val]\n",
    "val = x\n",
    "\n",
    "#2. split 70%/30%\n",
    "split_train_train = train[:int(len(train)*0.7)] #/\n",
    "split_train_val = val[:int(len(train)*0.7)]\n",
    "\n",
    "split_y_train_train = y_train[:int(len(train)*0.7)] #/\n",
    "split_y_train_val = y_val[:int(len(train)*0.7)]\n",
    "\n",
    "split_test_train = train[int(len(train)*0.7):] #/\n",
    "split_test_val = val[int(len(train)*0.7):]\n",
    "\n",
    "split_y_test_train = y_train[int(len(train)*0.7):]\n",
    "split_y_test_val = y_val[int(len(train)*0.7):]\n",
    "\n",
    "#3. train\n",
    "## build Dmatrix\n",
    "xgtrain = xgb.DMatrix(split_train_train.values, split_y_train_train.values)\n",
    "xgtest = xgb.DMatrix(split_test_train.values)\n",
    "\n",
    "## specify parameters via map\n",
    "param = {'max_depth':3, 'eta':0.5, 'objective':'reg:logistic' }\n",
    "num_round = 25\n",
    "bst = xgb.train(param, xgtrain, num_round)\n",
    "## make prediction\n",
    "preds_train = bst.predict(xgtest)\n",
    "\n",
    "#4. val\n",
    "## build Dmatrix\n",
    "xgtrain = xgb.DMatrix(split_train_val.values, split_y_train_val.values)\n",
    "xgtest = xgb.DMatrix(split_test_val.values)\n",
    "\n",
    "## specify parameters via map\n",
    "param = {'max_depth':3, 'eta':0.5, 'objective':'reg:logistic' }\n",
    "num_round = 25\n",
    "bst = xgb.train(param, xgtrain, num_round)\n",
    "## make prediction\n",
    "preds_val = bst.predict(xgtest)"
   ]
  },
  {
   "cell_type": "code",
   "execution_count": 352,
   "metadata": {},
   "outputs": [
    {
     "name": "stdout",
     "output_type": "stream",
     "text": [
      "0.972720817968241\n",
      "0.8610043450426232\n"
     ]
    }
   ],
   "source": [
    "R_square = 1 - (sum((preds_train - split_y_test_train)**2)/sum((preds_train - preds_train.mean())**2))\n",
    "print(R_square)\n",
    "R_square = 1 - (sum((preds_val - split_y_test_val)**2)/sum((preds_val - preds_val.mean())**2))\n",
    "print(R_square)"
   ]
  },
  {
   "cell_type": "code",
   "execution_count": 383,
   "metadata": {},
   "outputs": [],
   "source": [
    "#submit process\n",
    "#input: train/val for full train dataset\n",
    "\n",
    "x = x.drop(['id'],axis=1)\n",
    "train = x[col_train]\n",
    "#val = x[col_val]\n",
    "val = x\n",
    "\n",
    "submit = pd.read_csv(\"sample_submission.csv\", index_col = 0)\n",
    "submit.Predicted = res_array\n",
    "\n",
    "test_data = pd.read_csv(\"test.csv\", index_col = 0)\n",
    "test_data = test_data.drop(columns = ['batch_size_test', 'batch_size_val', 'criterion', 'optimizer', 'batch_size_train'])\n",
    "test_data = test_data.drop(columns = ['arch_and_hp','init_params_mu', 'init_params_std', 'init_params_l2'])\n",
    "test_data = test_data.drop(['id'],axis=1)\n",
    "test_train = test_data[col_train]\n",
    "#test_val = test_data[col_val]\n",
    "test_val = test_data\n",
    "\n",
    "xgtrain = xgb.DMatrix(train.values, y_train.values)\n",
    "xgtest = xgb.DMatrix(test_train.values)\n",
    "\n",
    "# specify parameters via map\n",
    "param = {'max_depth':3, 'eta':0.5, 'objective':'reg:logistic' }\n",
    "num_round = 25\n",
    "bst = xgb.train(param, xgtrain, num_round)\n",
    "# make prediction\n",
    "preds_train = bst.predict(xgtest)\n",
    "\n",
    "xgtrain = xgb.DMatrix(val.values, y_val.values)\n",
    "xgtest = xgb.DMatrix(test_val.values)\n",
    "# specify parameters via map\n",
    "param = {'max_depth':3, 'eta':0.5, 'objective':'reg:logistic' }\n",
    "num_round = 25\n",
    "bst = xgb.train(param, xgtrain, num_round)\n",
    "# make prediction\n",
    "preds_val = bst.predict(xgtest)\n",
    "\n",
    "#print(preds_train, preds_val)\n",
    "\n",
    "res_array = np.zeros(preds_train.shape[0]*2)\n",
    "i = 0\n",
    "j = 0\n",
    "while True:\n",
    "    \n",
    "    if i == preds_train.shape[0]:\n",
    "        break\n",
    "    \n",
    "    res_array[j] = preds_val[i]\n",
    "    j += 1\n",
    "    res_array[j] = preds_train[i]\n",
    "    j += 1\n",
    "    \n",
    "    i += 1 \n",
    "    \n",
    "submit.to_csv(\"submission.csv\")"
   ]
  },
  {
   "cell_type": "code",
   "execution_count": null,
   "metadata": {},
   "outputs": [],
   "source": []
  }
 ],
 "metadata": {
  "kernelspec": {
   "display_name": "Python 3",
   "language": "python",
   "name": "python3"
  },
  "language_info": {
   "codemirror_mode": {
    "name": "ipython",
    "version": 3
   },
   "file_extension": ".py",
   "mimetype": "text/x-python",
   "name": "python",
   "nbconvert_exporter": "python",
   "pygments_lexer": "ipython3",
   "version": "3.7.1"
  }
 },
 "nbformat": 4,
 "nbformat_minor": 2
}
